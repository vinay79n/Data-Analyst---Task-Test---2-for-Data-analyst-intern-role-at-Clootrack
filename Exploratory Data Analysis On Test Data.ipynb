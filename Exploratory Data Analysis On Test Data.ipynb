{
 "cells": [
  {
   "cell_type": "markdown",
   "id": "91f25f72",
   "metadata": {},
   "source": [
    "# AUTHOR : VINAY SHENDE"
   ]
  },
  {
   "cell_type": "markdown",
   "id": "9d8af4a3",
   "metadata": {},
   "source": [
    "# Data Analyst - Task Test - 2"
   ]
  },
  {
   "cell_type": "markdown",
   "id": "dafd2d62",
   "metadata": {},
   "source": [
    "# Dataset : Data Analyst - Test Data - US.csv( http://bit.ly/2Nm6L1d)"
   ]
  },
  {
   "cell_type": "code",
   "execution_count": 6,
   "id": "9746b727",
   "metadata": {},
   "outputs": [],
   "source": [
    "import numpy as np\n",
    "import pandas as pd\n",
    "import matplotlib.pyplot as plt\n",
    "%matplotlib inline\n",
    "import seaborn as sns"
   ]
  },
  {
   "cell_type": "markdown",
   "id": "6304311d",
   "metadata": {},
   "source": [
    "**STEP 1 - Reading The Dataset**"
   ]
  },
  {
   "cell_type": "code",
   "execution_count": 7,
   "id": "c80634e4",
   "metadata": {},
   "outputs": [],
   "source": [
    "auto=pd.read_csv('Data Analyst - Test Data - US.csv')"
   ]
  },
  {
   "cell_type": "code",
   "execution_count": 8,
   "id": "11d54cdb",
   "metadata": {},
   "outputs": [
    {
     "data": {
      "text/html": [
       "<div>\n",
       "<style scoped>\n",
       "    .dataframe tbody tr th:only-of-type {\n",
       "        vertical-align: middle;\n",
       "    }\n",
       "\n",
       "    .dataframe tbody tr th {\n",
       "        vertical-align: top;\n",
       "    }\n",
       "\n",
       "    .dataframe thead th {\n",
       "        text-align: right;\n",
       "    }\n",
       "</style>\n",
       "<table border=\"1\" class=\"dataframe\">\n",
       "  <thead>\n",
       "    <tr style=\"text-align: right;\">\n",
       "      <th></th>\n",
       "      <th>Review</th>\n",
       "      <th>date</th>\n",
       "      <th>Location</th>\n",
       "    </tr>\n",
       "  </thead>\n",
       "  <tbody>\n",
       "    <tr>\n",
       "      <th>0</th>\n",
       "      <td>I was very impressed with the resort.\\n Great ...</td>\n",
       "      <td>2019/08/20</td>\n",
       "      <td>Sebastian</td>\n",
       "    </tr>\n",
       "    <tr>\n",
       "      <th>1</th>\n",
       "      <td>The rooms were nice the outside needs work als...</td>\n",
       "      <td>2019/08/20</td>\n",
       "      <td>Los Angeles</td>\n",
       "    </tr>\n",
       "    <tr>\n",
       "      <th>2</th>\n",
       "      <td>Great location! I have stayed at this hotel on...</td>\n",
       "      <td>2019/08/20</td>\n",
       "      <td>Georgia</td>\n",
       "    </tr>\n",
       "    <tr>\n",
       "      <th>3</th>\n",
       "      <td>The hotel was adequate for my stay. The strips...</td>\n",
       "      <td>2019/08/20</td>\n",
       "      <td>NaN</td>\n",
       "    </tr>\n",
       "    <tr>\n",
       "      <th>4</th>\n",
       "      <td>Great location, room was large and spacious. P...</td>\n",
       "      <td>2019/08/19</td>\n",
       "      <td>Palm Harbor</td>\n",
       "    </tr>\n",
       "  </tbody>\n",
       "</table>\n",
       "</div>"
      ],
      "text/plain": [
       "                                              Review        date     Location\n",
       "0  I was very impressed with the resort.\\n Great ...  2019/08/20    Sebastian\n",
       "1  The rooms were nice the outside needs work als...  2019/08/20  Los Angeles\n",
       "2  Great location! I have stayed at this hotel on...  2019/08/20      Georgia\n",
       "3  The hotel was adequate for my stay. The strips...  2019/08/20          NaN\n",
       "4  Great location, room was large and spacious. P...  2019/08/19  Palm Harbor"
      ]
     },
     "execution_count": 8,
     "metadata": {},
     "output_type": "execute_result"
    }
   ],
   "source": [
    "auto.head()"
   ]
  },
  {
   "cell_type": "code",
   "execution_count": 11,
   "id": "6e928540",
   "metadata": {},
   "outputs": [
    {
     "data": {
      "text/html": [
       "<div>\n",
       "<style scoped>\n",
       "    .dataframe tbody tr th:only-of-type {\n",
       "        vertical-align: middle;\n",
       "    }\n",
       "\n",
       "    .dataframe tbody tr th {\n",
       "        vertical-align: top;\n",
       "    }\n",
       "\n",
       "    .dataframe thead th {\n",
       "        text-align: right;\n",
       "    }\n",
       "</style>\n",
       "<table border=\"1\" class=\"dataframe\">\n",
       "  <thead>\n",
       "    <tr style=\"text-align: right;\">\n",
       "      <th></th>\n",
       "      <th>Review</th>\n",
       "      <th>date</th>\n",
       "      <th>Location</th>\n",
       "    </tr>\n",
       "  </thead>\n",
       "  <tbody>\n",
       "    <tr>\n",
       "      <th>6443</th>\n",
       "      <td>·the staff were all so friendly. frank, the ch...</td>\n",
       "      <td>2019/07/12</td>\n",
       "      <td>United States of America</td>\n",
       "    </tr>\n",
       "    <tr>\n",
       "      <th>6444</th>\n",
       "      <td>·the internet barely worked or didn't work</td>\n",
       "      <td>2019/07/12</td>\n",
       "      <td>United States of America</td>\n",
       "    </tr>\n",
       "    <tr>\n",
       "      <th>6445</th>\n",
       "      <td>·the location was great.\\n \\n \\n \\n \\n ·the be...</td>\n",
       "      <td>2019/07/10</td>\n",
       "      <td>United States of America</td>\n",
       "    </tr>\n",
       "    <tr>\n",
       "      <th>6446</th>\n",
       "      <td>·we were early for check in and the staff was ...</td>\n",
       "      <td>2019/07/10</td>\n",
       "      <td>United States of America</td>\n",
       "    </tr>\n",
       "    <tr>\n",
       "      <th>6447</th>\n",
       "      <td>·staff, free coffee, location and activities.\\...</td>\n",
       "      <td>2019/07/10</td>\n",
       "      <td>United States of America</td>\n",
       "    </tr>\n",
       "  </tbody>\n",
       "</table>\n",
       "</div>"
      ],
      "text/plain": [
       "                                                 Review        date  \\\n",
       "6443  ·the staff were all so friendly. frank, the ch...  2019/07/12   \n",
       "6444         ·the internet barely worked or didn't work  2019/07/12   \n",
       "6445  ·the location was great.\\n \\n \\n \\n \\n ·the be...  2019/07/10   \n",
       "6446  ·we were early for check in and the staff was ...  2019/07/10   \n",
       "6447  ·staff, free coffee, location and activities.\\...  2019/07/10   \n",
       "\n",
       "                      Location  \n",
       "6443  United States of America  \n",
       "6444  United States of America  \n",
       "6445  United States of America  \n",
       "6446  United States of America  \n",
       "6447  United States of America  "
      ]
     },
     "execution_count": 11,
     "metadata": {},
     "output_type": "execute_result"
    }
   ],
   "source": [
    "auto.tail()"
   ]
  },
  {
   "cell_type": "code",
   "execution_count": 12,
   "id": "4a8858f1",
   "metadata": {},
   "outputs": [
    {
     "data": {
      "text/plain": [
       "(6448, 3)"
      ]
     },
     "execution_count": 12,
     "metadata": {},
     "output_type": "execute_result"
    }
   ],
   "source": [
    "auto.shape"
   ]
  },
  {
   "cell_type": "markdown",
   "id": "6e6ad33a",
   "metadata": {},
   "source": [
    "**STEP 2 - Checking for the data's information i.e type**"
   ]
  },
  {
   "cell_type": "code",
   "execution_count": 13,
   "id": "50a33093",
   "metadata": {},
   "outputs": [
    {
     "name": "stdout",
     "output_type": "stream",
     "text": [
      "<class 'pandas.core.frame.DataFrame'>\n",
      "RangeIndex: 6448 entries, 0 to 6447\n",
      "Data columns (total 3 columns):\n",
      " #   Column    Non-Null Count  Dtype \n",
      "---  ------    --------------  ----- \n",
      " 0   Review    6393 non-null   object\n",
      " 1   date      6448 non-null   object\n",
      " 2   Location  1711 non-null   object\n",
      "dtypes: object(3)\n",
      "memory usage: 151.2+ KB\n"
     ]
    }
   ],
   "source": [
    "auto.info()"
   ]
  },
  {
   "cell_type": "code",
   "execution_count": 14,
   "id": "7b2e6131",
   "metadata": {},
   "outputs": [
    {
     "data": {
      "text/html": [
       "<div>\n",
       "<style scoped>\n",
       "    .dataframe tbody tr th:only-of-type {\n",
       "        vertical-align: middle;\n",
       "    }\n",
       "\n",
       "    .dataframe tbody tr th {\n",
       "        vertical-align: top;\n",
       "    }\n",
       "\n",
       "    .dataframe thead th {\n",
       "        text-align: right;\n",
       "    }\n",
       "</style>\n",
       "<table border=\"1\" class=\"dataframe\">\n",
       "  <thead>\n",
       "    <tr style=\"text-align: right;\">\n",
       "      <th></th>\n",
       "      <th>Review</th>\n",
       "      <th>date</th>\n",
       "      <th>Location</th>\n",
       "    </tr>\n",
       "  </thead>\n",
       "  <tbody>\n",
       "    <tr>\n",
       "      <th>count</th>\n",
       "      <td>6393</td>\n",
       "      <td>6448</td>\n",
       "      <td>1711</td>\n",
       "    </tr>\n",
       "    <tr>\n",
       "      <th>unique</th>\n",
       "      <td>6384</td>\n",
       "      <td>403</td>\n",
       "      <td>1082</td>\n",
       "    </tr>\n",
       "    <tr>\n",
       "      <th>top</th>\n",
       "      <td>Amazing\\n  \\n  Read more\\n  Read less</td>\n",
       "      <td>Jun 2019</td>\n",
       "      <td>United States of America</td>\n",
       "    </tr>\n",
       "    <tr>\n",
       "      <th>freq</th>\n",
       "      <td>4</td>\n",
       "      <td>145</td>\n",
       "      <td>116</td>\n",
       "    </tr>\n",
       "  </tbody>\n",
       "</table>\n",
       "</div>"
      ],
      "text/plain": [
       "                                       Review      date  \\\n",
       "count                                    6393      6448   \n",
       "unique                                   6384       403   \n",
       "top     Amazing\\n  \\n  Read more\\n  Read less  Jun 2019   \n",
       "freq                                        4       145   \n",
       "\n",
       "                        Location  \n",
       "count                       1711  \n",
       "unique                      1082  \n",
       "top     United States of America  \n",
       "freq                         116  "
      ]
     },
     "execution_count": 14,
     "metadata": {},
     "output_type": "execute_result"
    }
   ],
   "source": [
    "auto.describe()"
   ]
  },
  {
   "cell_type": "code",
   "execution_count": 16,
   "id": "36e49b0d",
   "metadata": {},
   "outputs": [
    {
     "data": {
      "text/plain": [
       "Review        55\n",
       "date           0\n",
       "Location    4737\n",
       "dtype: int64"
      ]
     },
     "execution_count": 16,
     "metadata": {},
     "output_type": "execute_result"
    }
   ],
   "source": [
    "auto.isnull().sum()"
   ]
  },
  {
   "cell_type": "markdown",
   "id": "63889185",
   "metadata": {},
   "source": [
    "**STEP 3 - Checking for the duplicate data. If yes, dropping those data.**"
   ]
  },
  {
   "cell_type": "code",
   "execution_count": 18,
   "id": "727ccd8c",
   "metadata": {},
   "outputs": [
    {
     "data": {
      "text/html": [
       "<div>\n",
       "<style scoped>\n",
       "    .dataframe tbody tr th:only-of-type {\n",
       "        vertical-align: middle;\n",
       "    }\n",
       "\n",
       "    .dataframe tbody tr th {\n",
       "        vertical-align: top;\n",
       "    }\n",
       "\n",
       "    .dataframe thead th {\n",
       "        text-align: right;\n",
       "    }\n",
       "</style>\n",
       "<table border=\"1\" class=\"dataframe\">\n",
       "  <thead>\n",
       "    <tr style=\"text-align: right;\">\n",
       "      <th></th>\n",
       "      <th>Review</th>\n",
       "      <th>date</th>\n",
       "      <th>Location</th>\n",
       "    </tr>\n",
       "  </thead>\n",
       "  <tbody>\n",
       "    <tr>\n",
       "      <th>0</th>\n",
       "      <td>I was very impressed with the resort.\\n Great ...</td>\n",
       "      <td>2019/08/20</td>\n",
       "      <td>Sebastian</td>\n",
       "    </tr>\n",
       "    <tr>\n",
       "      <th>1</th>\n",
       "      <td>The rooms were nice the outside needs work als...</td>\n",
       "      <td>2019/08/20</td>\n",
       "      <td>Los Angeles</td>\n",
       "    </tr>\n",
       "    <tr>\n",
       "      <th>2</th>\n",
       "      <td>Great location! I have stayed at this hotel on...</td>\n",
       "      <td>2019/08/20</td>\n",
       "      <td>Georgia</td>\n",
       "    </tr>\n",
       "    <tr>\n",
       "      <th>3</th>\n",
       "      <td>The hotel was adequate for my stay. The strips...</td>\n",
       "      <td>2019/08/20</td>\n",
       "      <td>NaN</td>\n",
       "    </tr>\n",
       "    <tr>\n",
       "      <th>4</th>\n",
       "      <td>Great location, room was large and spacious. P...</td>\n",
       "      <td>2019/08/19</td>\n",
       "      <td>Palm Harbor</td>\n",
       "    </tr>\n",
       "    <tr>\n",
       "      <th>...</th>\n",
       "      <td>...</td>\n",
       "      <td>...</td>\n",
       "      <td>...</td>\n",
       "    </tr>\n",
       "    <tr>\n",
       "      <th>6443</th>\n",
       "      <td>·the staff were all so friendly. frank, the ch...</td>\n",
       "      <td>2019/07/12</td>\n",
       "      <td>United States of America</td>\n",
       "    </tr>\n",
       "    <tr>\n",
       "      <th>6444</th>\n",
       "      <td>·the internet barely worked or didn't work</td>\n",
       "      <td>2019/07/12</td>\n",
       "      <td>United States of America</td>\n",
       "    </tr>\n",
       "    <tr>\n",
       "      <th>6445</th>\n",
       "      <td>·the location was great.\\n \\n \\n \\n \\n ·the be...</td>\n",
       "      <td>2019/07/10</td>\n",
       "      <td>United States of America</td>\n",
       "    </tr>\n",
       "    <tr>\n",
       "      <th>6446</th>\n",
       "      <td>·we were early for check in and the staff was ...</td>\n",
       "      <td>2019/07/10</td>\n",
       "      <td>United States of America</td>\n",
       "    </tr>\n",
       "    <tr>\n",
       "      <th>6447</th>\n",
       "      <td>·staff, free coffee, location and activities.\\...</td>\n",
       "      <td>2019/07/10</td>\n",
       "      <td>United States of America</td>\n",
       "    </tr>\n",
       "  </tbody>\n",
       "</table>\n",
       "<p>6444 rows × 3 columns</p>\n",
       "</div>"
      ],
      "text/plain": [
       "                                                 Review        date  \\\n",
       "0     I was very impressed with the resort.\\n Great ...  2019/08/20   \n",
       "1     The rooms were nice the outside needs work als...  2019/08/20   \n",
       "2     Great location! I have stayed at this hotel on...  2019/08/20   \n",
       "3     The hotel was adequate for my stay. The strips...  2019/08/20   \n",
       "4     Great location, room was large and spacious. P...  2019/08/19   \n",
       "...                                                 ...         ...   \n",
       "6443  ·the staff were all so friendly. frank, the ch...  2019/07/12   \n",
       "6444         ·the internet barely worked or didn't work  2019/07/12   \n",
       "6445  ·the location was great.\\n \\n \\n \\n \\n ·the be...  2019/07/10   \n",
       "6446  ·we were early for check in and the staff was ...  2019/07/10   \n",
       "6447  ·staff, free coffee, location and activities.\\...  2019/07/10   \n",
       "\n",
       "                      Location  \n",
       "0                    Sebastian  \n",
       "1                  Los Angeles  \n",
       "2                      Georgia  \n",
       "3                          NaN  \n",
       "4                  Palm Harbor  \n",
       "...                        ...  \n",
       "6443  United States of America  \n",
       "6444  United States of America  \n",
       "6445  United States of America  \n",
       "6446  United States of America  \n",
       "6447  United States of America  \n",
       "\n",
       "[6444 rows x 3 columns]"
      ]
     },
     "execution_count": 18,
     "metadata": {},
     "output_type": "execute_result"
    }
   ],
   "source": [
    "auto.drop_duplicates()"
   ]
  },
  {
   "cell_type": "code",
   "execution_count": 9,
   "id": "22a17bec",
   "metadata": {},
   "outputs": [
    {
     "data": {
      "text/plain": [
       "Review      6384\n",
       "date         403\n",
       "Location    1082\n",
       "dtype: int64"
      ]
     },
     "execution_count": 9,
     "metadata": {},
     "output_type": "execute_result"
    }
   ],
   "source": [
    "auto.nunique()"
   ]
  },
  {
   "cell_type": "code",
   "execution_count": 13,
   "id": "f0678406",
   "metadata": {},
   "outputs": [
    {
     "data": {
      "text/plain": [
       "Index(['Review', 'date', 'Location'], dtype='object')"
      ]
     },
     "execution_count": 13,
     "metadata": {},
     "output_type": "execute_result"
    }
   ],
   "source": [
    "auto.columns"
   ]
  },
  {
   "cell_type": "code",
   "execution_count": 17,
   "id": "8fdc018a",
   "metadata": {},
   "outputs": [
    {
     "name": "stdout",
     "output_type": "stream",
     "text": [
      "Review : ['I was very impressed with the resort.\\n Great staff at the main resort pool bar! We had a blast with them.\\n Clean, professional staff, great location and very reasonable!\\n  \\n  Read more\\n  Read less'\n",
      " 'The rooms were nice the outside needs work also no free breakfast it would have been nice overall it was ok\\n  \\n  Read more\\n  Read less'\n",
      " 'Great location! I have stayed at this hotel on my last three trips to New York.\\n  \\n  Read more\\n  Read less'\n",
      " ...\n",
      " '·the location was great.\\n \\n \\n \\n \\n ·the bed was the most uncomfortable bed i have ever been in.'\n",
      " '·we were early for check in and the staff was very accommodating. we were able to check in several hours before the check in time.'\n",
      " '·staff, free coffee, location and activities.\\n \\n \\n \\n \\n ·the beds were smaller than we thought and not very comfortable.']\n",
      "date : ['2019/08/20' '2019/08/19' '2019/08/18' '2019/08/17' '2019/08/16'\n",
      " '2019/08/15' '2019/08/14' '2019/08/13' '2019/08/12' '2019/08/11'\n",
      " '2019/08/10' '2019/08/09' '2019/08/08' '2019/08/07' '2019/08/06'\n",
      " '2019/08/05' '2019/08/04' '2019/08/03' '2019/08/02' '2019/08/01'\n",
      " '2019/07/31' '2019/07/30' '2019/07/29' '2019/07/28' '2019/07/27'\n",
      " '2019/07/26' '2019/07/25' '2019/07/24' '2019/07/23' '2019/07/22'\n",
      " '2019/07/21' '2019/07/20' '2019/07/19' '2019/07/18' '2019/07/17'\n",
      " '2019/07/16' '2019/07/15' '2019/07/14' '2019/07/13' '2019/07/12'\n",
      " '2019/07/11' '2019/07/10' '2019/07/09' '2019/07/08' '2019/07/07'\n",
      " '2019/07/06' '2019/07/05' '2019/07/04' '2019/07/03' '2019/07/02'\n",
      " '2019/07/01' '2019/06/30' '2019/06/29' '2019/06/28' '2019/06/27'\n",
      " '2019/06/26' '2019/06/25' '2019/06/24' '2019/06/23' '2019/06/22'\n",
      " '2019/06/21' '2019/06/20' '2019/06/19' '2019/06/18' '2019/06/17'\n",
      " '2019/06/16' '2019/06/15' '2019/06/14' '2019/06/13' '2019/06/12'\n",
      " '2019/06/11' '2019/06/10' '2019/06/09' '2019/06/08' '2019/06/07'\n",
      " '2019/06/06' '2019/06/05' '2019/06/04' '2019/06/03' '2019/06/02'\n",
      " '2019/06/01' '2019/05/31' '2019/05/30' '2019/05/29' '2019/05/28'\n",
      " '2019/05/27' '2019/05/26' '2019/05/25' '2019/05/24' '2019/05/23'\n",
      " '2019/05/22' '2019/05/21' '2019/05/20' '2019/05/19' '2019/05/18'\n",
      " '2019/05/17' '2019/05/16' '2019/05/15' '2019/05/14' '2019/05/13'\n",
      " '2019/05/12' '2019/05/11' '2019/05/10' '2019/05/09' '2019/05/08'\n",
      " '2019/05/07' '2019/05/06' '2019/05/05' '2019/05/04' '2019/05/03'\n",
      " '2019/05/02' '2019/05/01' '2019/04/30' '2019/04/29' '2019/04/28'\n",
      " '2019/04/27' '2019/04/26' '2019/04/25' '2019/04/24' '2019/04/23'\n",
      " '2019/04/22' '2019/04/21' '2019/04/20' '2019/04/19' '2019/04/18'\n",
      " '2019/04/17' '2019/04/16' '2019/04/15' '2019/04/14' '2019/04/13'\n",
      " '2019/04/12' '2019/04/11' '2019/04/10' '2019/04/09' '2019/04/08'\n",
      " '2019/04/07' '2019/04/06' '2019/04/05' '2019/04/04' '2019/04/03'\n",
      " '2019/04/02' '2019/04/01' '2019/03/31' '2019/03/30' '2019/03/29'\n",
      " '2019/03/28' '2019/03/27' '2019/03/26' '2019/03/25' '2019/03/24'\n",
      " '2019/03/23' '2019/03/22' '2019/03/21' '2019/03/20' '2019/03/19'\n",
      " '2019/03/18' '2019/03/17' '2019/03/16' '2019/03/15' '2019/03/14'\n",
      " '2019/03/13' '2019/03/12' '2019/03/11' '2019/03/10' '2019/03/09'\n",
      " '2019/03/08' '2019/03/07' '2019/03/06' '2019/03/05' '2019/03/04'\n",
      " '2019/3/4' '2019/3/3' '2019/3/2' '2019/3/1' '2019/2/28' '2019/2/27'\n",
      " '2019/2/26' '2019/2/25' '2019/2/24' '2019/2/23' '2019/2/22' '2019/2/21'\n",
      " '2019/2/20' '2019/2/19' '2019/2/18' '2019/2/17' '2019/2/16' '2019/2/15'\n",
      " '2019/2/14' '2019/2/13' '2019/2/12' '2019/2/11' '2019/2/10' '2019/2/9'\n",
      " '2019/2/8' '2019/2/7' '2019/2/6' '2019/2/5' '2019/2/4' '2019/2/3'\n",
      " '2019/2/2' '2019/2/1' '2019/1/31' '2019/1/30' '2019/01/30' '2019/01/29'\n",
      " '2019/01/28' '2019/01/27' '2019/01/26' '2019/01/25' '2019/01/24'\n",
      " '2019/01/23' '2019/01/22' '2019/1/22' '2019/1/21' '2019/1/20' '2019/1/19'\n",
      " '2019/1/18' '2019/1/17' '2019/1/16' '2019/1/15' '2019/1/14' '2019/1/13'\n",
      " '2019/1/12' '2019/1/11' '2019/1/10' '2019/1/9' '2019/1/8' '2019/1/7'\n",
      " '2019/1/6' '2019/1/5' '2019/1/4' '2019/1/3' '2019/01/03' '2019/01/02'\n",
      " '2019/01/01' '2018/12/31' '2018/12/30' '2018/12/29' '2018/12/28'\n",
      " '2018/12/27' '2018/12/26' '2018/12/25' '2018/12/24' '2018/12/23'\n",
      " '2018/12/22' '2018/12/21' '2018/12/20' '2018/12/19' '2018/12/18'\n",
      " '2018/12/17' '2018/12/16' '2018/12/15' '2018/12/14' '2018/12/13'\n",
      " '2018/12/12' '2018/12/11' '2018/12/10' '2018/12/09' '2018/12/08'\n",
      " '2018/12/07' '2018/12/06' '2018/12/05' '2018/12/04' '2018/12/03'\n",
      " '2018/12/02' '2018/12/01' '2018/11/30' '2018/11/29' '2018/11/28'\n",
      " '2018/11/27' '2018/11/26' '2018/11/25' '2018/11/24' '2018/11/23'\n",
      " '2018/11/22' '2018/11/21' '2018/11/20' '2018/11/19' '2018/11/18'\n",
      " '2018/11/17' '2018/11/16' '2018/11/15' '2018/11/14' '2018/11/13'\n",
      " '2018/11/12' '2018/11/11' '2018/11/10' '2018/11/09' '2018/11/08'\n",
      " '2018/11/07' '2018/11/06' '2018/11/05' '2018/11/04' '2018/11/03'\n",
      " '2018/11/02' '2018/11/01' '2018/10/31' '2018/10/30' '2018/10/29'\n",
      " '2018/10/28' '2018/10/27' '2018/10/26' '2018/10/25' '2018/10/24'\n",
      " '2018/10/23' '2018/10/22' '2018/10/21' '2018/10/20' '2018/10/19'\n",
      " '2018/10/18' '2018/10/17' '2018/10/16' '2018/10/15' '2018/10/14'\n",
      " '2018/10/13' '2018/10/12' '2018/10/11' '2018/10/10' '2018/10/09'\n",
      " '2018/10/08' '2018/10/07' '2018/10/06' '2018/10/05' '2018/10/04'\n",
      " '2018/10/03' '2018/10/02' '2018/10/01' '2018/09/30' '2018/09/29'\n",
      " '2018/09/28' '2018/09/27' '2018/09/26' '2018/09/25' '2018/09/24'\n",
      " '2018/09/23' '2018/09/22' '2018/09/21' '2018/09/20' '2018/09/19'\n",
      " '2018/09/18' '2018/09/17' '2018/09/16' '2018/09/15' '2018/09/14'\n",
      " '2018/09/13' '2018/09/12' '2018/09/11' '2018/09/10' '2018/09/09'\n",
      " '2018/09/08' '2018/09/07' '2018/09/06' '2018/09/05' '2018/09/04'\n",
      " '2018/09/03' '2018/09/02' '2018/09/01' '2018/08/31' '2018/08/30'\n",
      " '2018/08/29' '2018/08/28' '2018/08/27' '2018/08/26' '2018/08/25'\n",
      " '2018/08/24' '2018/08/23' '2018/08/22' '2018/08/21' '2018/08/20'\n",
      " '2018/08/19' '2018/08/18' '2018/08/17' '2018/08/16' '2018/08/15'\n",
      " '2018/08/14' '2018/08/13' '2018/08/12' '2018/08/11' '2018/08/10'\n",
      " '2018/08/09' '2018/08/08' '2018/08/07' '2018/08/06' '2018/08/05'\n",
      " '2018/08/04' '2018/08/03' '2018/08/02' '2018/08/01' '2019/02/01'\n",
      " '2019/03/01' 'Dec 2018' 'Aug 2018' 'Jul 2019' 'Sep 2018' 'Oct 2018'\n",
      " 'Jan 2019' 'Feb 2019' 'Apr 2019' 'Mar 2019' 'May 2019' 'Jun 2019'\n",
      " 'Nov 2018']\n",
      "Location : ['Sebastian' 'Los Angeles' 'Georgia' ... 'India' 'Malaysia'\n",
      " 'Trinidad and Tobago']\n"
     ]
    }
   ],
   "source": [
    "#Checking for wrong entries like symbols -,?,#,*,etc.\n",
    "for col in auto.columns:\n",
    "    print('{} : {}'.format(col,auto[col].unique()))"
   ]
  },
  {
   "cell_type": "markdown",
   "id": "0c7a930f",
   "metadata": {},
   "source": [
    "So, we can see from above result that there are no wrong entries like symbols -,?,#,*,etc.\n",
    "And Most of the missing values in the data set belong to location column which you can see in the below given visualisation (& in the dataset missing values are labled as NAN)"
   ]
  },
  {
   "cell_type": "code",
   "execution_count": 18,
   "id": "d95501f8",
   "metadata": {},
   "outputs": [
    {
     "data": {
      "text/plain": [
       "<AxesSubplot:>"
      ]
     },
     "execution_count": 18,
     "metadata": {},
     "output_type": "execute_result"
    },
    {
     "data": {
      "image/png": "[encoded data removed]",
      "text/plain": [
       "<Figure size 432x288 with 1 Axes>"
      ]
     },
     "metadata": {
      "needs_background": "light"
     },
     "output_type": "display_data"
    }
   ],
   "source": [
    "sns.heatmap(auto.isnull(),cbar=False,cmap='viridis')"
   ]
  },
  {
   "cell_type": "code",
   "execution_count": 21,
   "id": "ba1b6337",
   "metadata": {},
   "outputs": [
    {
     "data": {
      "text/plain": [
       "Review        55\n",
       "date           0\n",
       "Location    4737\n",
       "dtype: int64"
      ]
     },
     "execution_count": 21,
     "metadata": {},
     "output_type": "execute_result"
    }
   ],
   "source": [
    "auto.isnull().sum()"
   ]
  },
  {
   "cell_type": "markdown",
   "id": "459b1c53",
   "metadata": {},
   "source": [
    "as we can se that there are 55 review fields , 0 date fields and 4737 Location fields as NULL values "
   ]
  },
  {
   "cell_type": "code",
   "execution_count": 23,
   "id": "97e7f190",
   "metadata": {},
   "outputs": [
    {
     "data": {
      "text/plain": [
       "<AxesSubplot:xlabel='date', ylabel='Count'>"
      ]
     },
     "execution_count": 23,
     "metadata": {},
     "output_type": "execute_result"
    },
    {
     "data": {
      "image/png": "[encoded data removed]",
      "text/plain": [
       "<Figure size 432x288 with 1 Axes>"
      ]
     },
     "metadata": {
      "needs_background": "light"
     },
     "output_type": "display_data"
    }
   ],
   "source": [
    "sns.histplot(auto.date,bins=10)"
   ]
  },
  {
   "cell_type": "markdown",
   "id": "fa3d68c1",
   "metadata": {},
   "source": [
    "# COMPLETE"
   ]
  }
 ],
 "metadata": {
  "kernelspec": {
   "display_name": "Python 3 (ipykernel)",
   "language": "python",
   "name": "python3"
  },
  "language_info": {
   "codemirror_mode": {
    "name": "ipython",
    "version": 3
   },
   "file_extension": ".py",
   "mimetype": "text/x-python",
   "name": "python",
   "nbconvert_exporter": "python",
   "pygments_lexer": "ipython3",
   "version": "3.9.2"
  }
 },
 "nbformat": 4,
 "nbformat_minor": 5
}
